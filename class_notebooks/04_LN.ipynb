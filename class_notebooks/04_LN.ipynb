{
 "cells": [
  {
   "cell_type": "markdown",
   "metadata": {},
   "source": [
    "# Search"
   ]
  },
  {
   "cell_type": "markdown",
   "metadata": {},
   "source": [
    "We start by defining our network as an Adjececny List"
   ]
  },
  {
   "cell_type": "code",
   "execution_count": 8,
   "metadata": {
    "collapsed": false
   },
   "outputs": [
    {
     "data": {
      "text/plain": [
       "7-element Array{Array{Int64,1},1}:\n",
       " [2]    \n",
       " [3,4,5]\n",
       " [1,5]  \n",
       " [5,6]  \n",
       " Int64[]\n",
       " [5]    \n",
       " [3,5]  "
      ]
     },
     "execution_count": 8,
     "metadata": {},
     "output_type": "execute_result"
    }
   ],
   "source": [
    "adjL=[[2],\n",
    "    [3,4,5],\n",
    "    [1,5],\n",
    "    [5,6],\n",
    "    Int[],\n",
    "    [5],\n",
    "    [3,5]\n",
    "]"
   ]
  },
  {
   "cell_type": "markdown",
   "metadata": {},
   "source": [
    "We need to create a logical function find an admissable arc"
   ]
  },
  {
   "cell_type": "code",
   "execution_count": 9,
   "metadata": {
    "collapsed": false
   },
   "outputs": [
    {
     "data": {
      "text/plain": [
       "find_addmissable (generic function with 1 method)"
      ]
     },
     "execution_count": 9,
     "metadata": {},
     "output_type": "execute_result"
    }
   ],
   "source": [
    "function find_addmissable(L,marked_list,tail)\n",
    "    for head in L[tail]\n",
    "        if !(head in marked_list)\n",
    "            return head\n",
    "        end\n",
    "    end\n",
    "    return -1 # Special value to indicate no addmissable arc \n",
    "end"
   ]
  },
  {
   "cell_type": "markdown",
   "metadata": {
    "collapsed": false
   },
   "source": [
    "Next step is to write the search algorithm. "
   ]
  },
  {
   "cell_type": "code",
   "execution_count": 24,
   "metadata": {
    "collapsed": false
   },
   "outputs": [
    {
     "name": "stderr",
     "output_type": "stream",
     "text": [
      "WARNING: Method definition graph_search(Any, Any) in module Main at In[22]:3 overwritten at In[24]:3.\n",
      "WARNING: Method definition graph_search(Any, Any, Bool) in module Main at In[22]:3 overwritten at In[24]:3.\n"
     ]
    },
    {
     "data": {
      "text/plain": [
       "graph_search (generic function with 2 methods)"
      ]
     },
     "execution_count": 24,
     "metadata": {},
     "output_type": "execute_result"
    }
   ],
   "source": [
    "function graph_search(s,aL,isDepth::Bool=true)\n",
    "    # Initialization\n",
    "    n=length(aL) #number of nodes \n",
    "    pred=zeros(Int,n)\n",
    "    marked=Int[s]\n",
    "    List=Int[s]\n",
    "    # Now I can stard doing the actual work \n",
    "    while !isempty(List)\n",
    "        i=isDepth? List[end]:List[1] #This is the current node\n",
    "        j=find_addmissable(aL,marked,i)\n",
    "        if j>0 # We found an addmissable arc \n",
    "            push!(marked,j)\n",
    "            pred[j]=i\n",
    "            push!(List,j)\n",
    "        else\n",
    "            isDepth? pop!(List):shift!(List)\n",
    "        end\n",
    "    end\n",
    "    pred\n",
    "end"
   ]
  },
  {
   "cell_type": "code",
   "execution_count": 25,
   "metadata": {
    "collapsed": false
   },
   "outputs": [
    {
     "data": {
      "text/plain": [
       "7-element Array{Int64,1}:\n",
       " 0\n",
       " 1\n",
       " 2\n",
       " 2\n",
       " 2\n",
       " 4\n",
       " 0"
      ]
     },
     "execution_count": 25,
     "metadata": {},
     "output_type": "execute_result"
    }
   ],
   "source": [
    "graph_search(1,adjL,false) #Breadth"
   ]
  },
  {
   "cell_type": "code",
   "execution_count": 26,
   "metadata": {
    "collapsed": false
   },
   "outputs": [
    {
     "data": {
      "text/plain": [
       "7-element Array{Int64,1}:\n",
       " 0\n",
       " 1\n",
       " 2\n",
       " 2\n",
       " 3\n",
       " 4\n",
       " 0"
      ]
     },
     "execution_count": 26,
     "metadata": {},
     "output_type": "execute_result"
    }
   ],
   "source": [
    "graph_search(1,adjL) # Depth"
   ]
  },
  {
   "cell_type": "code",
   "execution_count": 27,
   "metadata": {
    "collapsed": false
   },
   "outputs": [
    {
     "data": {
      "text/plain": [
       "7-element Array{Int64,1}:\n",
       " 3\n",
       " 1\n",
       " 7\n",
       " 2\n",
       " 4\n",
       " 4\n",
       " 0"
      ]
     },
     "execution_count": 27,
     "metadata": {},
     "output_type": "execute_result"
    }
   ],
   "source": [
    "graph_search(7,adjL) # Depth"
   ]
  },
  {
   "cell_type": "code",
   "execution_count": 31,
   "metadata": {
    "collapsed": false
   },
   "outputs": [
    {
     "name": "stderr",
     "output_type": "stream",
     "text": [
      "INFO: Nothing to be done\n",
      "INFO: METADATA is out-of-date — you may not have the latest version of LightGraphs\n",
      "INFO: Use `Pkg.update()` to get the latest versions of your packages\n"
     ]
    }
   ],
   "source": [
    "Pkg.add(\"LightGraphs\")"
   ]
  },
  {
   "cell_type": "markdown",
   "metadata": {},
   "source": [
    "Now we try to use and external library to do the same thing"
   ]
  },
  {
   "cell_type": "code",
   "execution_count": 32,
   "metadata": {
    "collapsed": false
   },
   "outputs": [
    {
     "name": "stderr",
     "output_type": "stream",
     "text": [
      "INFO: Precompiling module LightGraphs.\n",
      "WARNING: could not import Base.complement into LightGraphs\n",
      "WARNING: could not import Base.lastidx into LegacyStrings\n"
     ]
    }
   ],
   "source": [
    "using LightGraphs"
   ]
  },
  {
   "cell_type": "code",
   "execution_count": 36,
   "metadata": {
    "collapsed": false
   },
   "outputs": [],
   "source": [
    "g=DiGraph(7)\n",
    "for i=1:length(adjL)\n",
    "    for j in adjL[i]\n",
    "        add_edge!(g,i,j)\n",
    "    end\n",
    "end"
   ]
  },
  {
   "cell_type": "markdown",
   "metadata": {},
   "source": [
    "Now we do the depth first"
   ]
  },
  {
   "cell_type": "code",
   "execution_count": 37,
   "metadata": {
    "collapsed": false
   },
   "outputs": [
    {
     "data": {
      "text/plain": [
       "{7, 5} directed graph"
      ]
     },
     "execution_count": 37,
     "metadata": {},
     "output_type": "execute_result"
    }
   ],
   "source": [
    "dfs_tree(g, 1)"
   ]
  },
  {
   "cell_type": "code",
   "execution_count": 38,
   "metadata": {
    "collapsed": false
   },
   "outputs": [
    {
     "data": {
      "text/plain": [
       "{7, 5} directed graph"
      ]
     },
     "execution_count": 38,
     "metadata": {},
     "output_type": "execute_result"
    }
   ],
   "source": [
    "bfs_tree(g,1)"
   ]
  },
  {
   "cell_type": "markdown",
   "metadata": {},
   "source": [
    "You should \n",
    "1. Fix out light graph definition error \n",
    "2. Check the time of our implimention with lightgraphs (e.g. @time bfs_tree(g,1))\n",
    "3. Find a faster way to do the admissable arc computation\n",
    "4. Repeat 2\n"
   ]
  }
 ],
 "metadata": {
  "kernelspec": {
   "display_name": "Julia 0.5.0",
   "language": "julia",
   "name": "julia-0.5"
  },
  "language_info": {
   "file_extension": ".jl",
   "mimetype": "application/julia",
   "name": "julia",
   "version": "0.5.0"
  }
 },
 "nbformat": 4,
 "nbformat_minor": 1
}
