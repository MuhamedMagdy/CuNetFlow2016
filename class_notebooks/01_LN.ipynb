{
 "cells": [
  {
   "cell_type": "markdown",
   "metadata": {},
   "source": [
    "# Notebook 1: \n",
    "20160927"
   ]
  },
  {
   "cell_type": "markdown",
   "metadata": {},
   "source": [
    "Unfortunalty the notebook we build is class was lost. So I am reconstructing this from memory.\n",
    "We first start by constructing our graph as as set of nodes and arcs. "
   ]
  },
  {
   "cell_type": "code",
   "execution_count": 3,
   "metadata": {
    "collapsed": false
   },
   "outputs": [
    {
     "data": {
      "text/plain": [
       "4-element Array{Int64,1}:\n",
       " 1\n",
       " 2\n",
       " 3\n",
       " 4"
      ]
     },
     "execution_count": 3,
     "metadata": {},
     "output_type": "execute_result"
    }
   ],
   "source": [
    "N=[1,2,3,4]"
   ]
  },
  {
   "cell_type": "code",
   "execution_count": 4,
   "metadata": {
    "collapsed": false
   },
   "outputs": [
    {
     "data": {
      "text/plain": [
       "5-element Array{Tuple{Int64,Int64},1}:\n",
       " (1,2)\n",
       " (2,3)\n",
       " (4,1)\n",
       " (4,3)\n",
       " (3,4)"
      ]
     },
     "execution_count": 4,
     "metadata": {},
     "output_type": "execute_result"
    }
   ],
   "source": [
    "A=[(1,2),(2,3),(4,1),(4,3),(3,4)]"
   ]
  },
  {
   "cell_type": "markdown",
   "metadata": {},
   "source": [
    "We first start by stating a number of questions that would be usefull when looking at Graphs:\n",
    "1. Are any to given nodes connected by an arc\n",
    "2. What are the nodes emenating from a given node\n",
    "3. What are the number of head end adjacent to a node ([in-degree](https://en.wikipedia.org/wiki/Directed_graph#Indegree_and_outdegree))\n",
    "4. What are the number tail ends acdjacent to a node (([out-degree](https://en.wikipedia.org/wiki/Directed_graph#Indegree_and_outdegree))\n",
    "5. The number of paths in a network (hard)\n",
    "6. The number of cycles in a network (hard)\n",
    "\n",
    "We start by question 1:\n"
   ]
  },
  {
   "cell_type": "code",
   "execution_count": 5,
   "metadata": {
    "collapsed": false
   },
   "outputs": [
    {
     "name": "stderr",
     "output_type": "stream",
     "text": [
      "WARNING: Method definition is_connected(Any, Any, Any, Any) in module Main at In[2]:2 overwritten at In[5]:2.\n"
     ]
    },
    {
     "data": {
      "text/plain": [
       "is_connected (generic function with 1 method)"
      ]
     },
     "execution_count": 5,
     "metadata": {},
     "output_type": "execute_result"
    }
   ],
   "source": [
    "function is_connected(a,b,N,A)\n",
    "    for arc in A\n",
    "        if (a,b)==arc || (b,a)==arc\n",
    "            return true\n",
    "        end\n",
    "    end\n",
    "    false\n",
    "end"
   ]
  },
  {
   "cell_type": "markdown",
   "metadata": {},
   "source": [
    "In the above `N` served no purpose. We could have used it for error checking. But first lets test a bit"
   ]
  },
  {
   "cell_type": "code",
   "execution_count": 6,
   "metadata": {
    "collapsed": false
   },
   "outputs": [
    {
     "data": {
      "text/plain": [
       "true"
      ]
     },
     "execution_count": 6,
     "metadata": {},
     "output_type": "execute_result"
    }
   ],
   "source": [
    "is_connected(1,2,N,A)"
   ]
  },
  {
   "cell_type": "code",
   "execution_count": 7,
   "metadata": {
    "collapsed": false
   },
   "outputs": [
    {
     "data": {
      "text/plain": [
       "false"
      ]
     },
     "execution_count": 7,
     "metadata": {},
     "output_type": "execute_result"
    }
   ],
   "source": [
    "is_connected(4,2,N,A)"
   ]
  },
  {
   "cell_type": "code",
   "execution_count": 8,
   "metadata": {
    "collapsed": false
   },
   "outputs": [
    {
     "data": {
      "text/plain": [
       "false"
      ]
     },
     "execution_count": 8,
     "metadata": {},
     "output_type": "execute_result"
    }
   ],
   "source": [
    "is_connected(5,2,N,A)"
   ]
  },
  {
   "cell_type": "markdown",
   "metadata": {},
   "source": [
    "Note here that node 5 does not exit. It could be that we want to flag this input as an error. We add an if condition to do that"
   ]
  },
  {
   "cell_type": "code",
   "execution_count": 13,
   "metadata": {
    "collapsed": false
   },
   "outputs": [
    {
     "name": "stderr",
     "output_type": "stream",
     "text": [
      "WARNING: Method definition is_connected(Any, Any, Any, Any) in module Main at In[9]:2 overwritten at In[13]:2.\n"
     ]
    },
    {
     "data": {
      "text/plain": [
       "is_connected (generic function with 1 method)"
      ]
     },
     "execution_count": 13,
     "metadata": {},
     "output_type": "execute_result"
    }
   ],
   "source": [
    "function is_connected(a,b,N,A)\n",
    "    if !(a in N && b in N)\n",
    "        error(\"An input node is none existant!\")\n",
    "    end\n",
    "    for arc in A\n",
    "        if (a,b)==arc || (b,a)==arc\n",
    "            return true\n",
    "        end\n",
    "    end\n",
    "    false\n",
    "end"
   ]
  },
  {
   "cell_type": "code",
   "execution_count": 14,
   "metadata": {
    "collapsed": false
   },
   "outputs": [
    {
     "data": {
      "text/plain": [
       "true"
      ]
     },
     "execution_count": 14,
     "metadata": {},
     "output_type": "execute_result"
    }
   ],
   "source": [
    "is_connected(1,2,N,A)"
   ]
  },
  {
   "cell_type": "code",
   "execution_count": 15,
   "metadata": {
    "collapsed": false
   },
   "outputs": [
    {
     "ename": "LoadError",
     "evalue": "LoadError: An input node is none existant!\nwhile loading In[15], in expression starting on line 1",
     "output_type": "error",
     "traceback": [
      "LoadError: An input node is none existant!\nwhile loading In[15], in expression starting on line 1",
      "",
      " in is_connected(::Int64, ::Int64, ::Array{Int64,1}, ::Array{Tuple{Int64,Int64},1}) at ./In[13]:3"
     ]
    }
   ],
   "source": [
    "is_connected(5,2,N,A)"
   ]
  },
  {
   "cell_type": "markdown",
   "metadata": {},
   "source": [
    "We can make the function shorter, by exploiting Julia's short circuiting "
   ]
  },
  {
   "cell_type": "code",
   "execution_count": 14,
   "metadata": {
    "collapsed": false
   },
   "outputs": [
    {
     "name": "stderr",
     "output_type": "stream",
     "text": [
      "WARNING: Method definition is_connected(Any, Any, Any, Any) in module Main at In[13]:2 overwritten at In[14]:2.\n"
     ]
    },
    {
     "data": {
      "text/plain": [
       "is_connected (generic function with 1 method)"
      ]
     },
     "execution_count": 14,
     "metadata": {},
     "output_type": "execute_result"
    }
   ],
   "source": [
    "function is_connected(a,b,N,A)\n",
    "    (a in N && b in N) || error(\"An input node is none existant!\")\n",
    "    for arc in A\n",
    "        (a,b)==arc || (b,a)==arc && return true\n",
    "    end\n",
    "    false\n",
    "end"
   ]
  },
  {
   "cell_type": "code",
   "execution_count": 17,
   "metadata": {
    "collapsed": false
   },
   "outputs": [
    {
     "data": {
      "text/plain": [
       "true"
      ]
     },
     "execution_count": 17,
     "metadata": {},
     "output_type": "execute_result"
    }
   ],
   "source": [
    "is_connected(1,2,N,A)"
   ]
  },
  {
   "cell_type": "code",
   "execution_count": 15,
   "metadata": {
    "collapsed": false
   },
   "outputs": [
    {
     "ename": "LoadError",
     "evalue": "LoadError: An input node is none existant!\nwhile loading In[15], in expression starting on line 1",
     "output_type": "error",
     "traceback": [
      "LoadError: An input node is none existant!\nwhile loading In[15], in expression starting on line 1",
      "",
      " in is_connected(::Int64, ::Int64, ::Array{Int64,1}, ::Array{Tuple{Int64,Int64},1}) at ./In[13]:3"
     ]
    }
   ],
   "source": [
    "is_connected(5,2,N,A)"
   ]
  },
  {
   "cell_type": "markdown",
   "metadata": {},
   "source": [
    "Which code do you find most readable?\n",
    "\n",
    "Now lets move to the second question. "
   ]
  },
  {
   "cell_type": "code",
   "execution_count": 18,
   "metadata": {
    "collapsed": false
   },
   "outputs": [
    {
     "data": {
      "text/plain": [
       "get_connected_nodes (generic function with 1 method)"
      ]
     },
     "execution_count": 18,
     "metadata": {},
     "output_type": "execute_result"
    }
   ],
   "source": [
    "function get_connected_nodes(a,N,A)\n",
    "    (a in N) || error(\"An input node is none existant!\")\n",
    "    c_nodes=[]\n",
    "    for arc in A\n",
    "        if arc[1]==a\n",
    "            push!(c_nodes,arc[2])\n",
    "        end\n",
    "    end\n",
    "    c_nodes\n",
    "end"
   ]
  },
  {
   "cell_type": "code",
   "execution_count": 19,
   "metadata": {
    "collapsed": false
   },
   "outputs": [
    {
     "data": {
      "text/plain": [
       "2-element Array{Any,1}:\n",
       " 1\n",
       " 3"
      ]
     },
     "execution_count": 19,
     "metadata": {},
     "output_type": "execute_result"
    }
   ],
   "source": [
    "get_connected_nodes(4,N,A)"
   ]
  },
  {
   "cell_type": "code",
   "execution_count": 20,
   "metadata": {
    "collapsed": false
   },
   "outputs": [
    {
     "data": {
      "text/plain": [
       "1-element Array{Any,1}:\n",
       " 3"
      ]
     },
     "execution_count": 20,
     "metadata": {},
     "output_type": "execute_result"
    }
   ],
   "source": [
    "get_connected_nodes(2,N,A)"
   ]
  },
  {
   "cell_type": "markdown",
   "metadata": {},
   "source": [
    "However, there is a simpler way by doing list comprehension "
   ]
  },
  {
   "cell_type": "code",
   "execution_count": 21,
   "metadata": {
    "collapsed": false
   },
   "outputs": [
    {
     "name": "stderr",
     "output_type": "stream",
     "text": [
      "WARNING: Method definition get_connected_nodes(Any, Any, Any) in module Main at In[18]:2 overwritten at In[21]:2.\n"
     ]
    },
    {
     "data": {
      "text/plain": [
       "get_connected_nodes (generic function with 1 method)"
      ]
     },
     "execution_count": 21,
     "metadata": {},
     "output_type": "execute_result"
    }
   ],
   "source": [
    "function get_connected_nodes(a,N,A)\n",
    "    [arc[2] for arc in A if arc[1]==a]\n",
    "end"
   ]
  },
  {
   "cell_type": "code",
   "execution_count": 22,
   "metadata": {
    "collapsed": false
   },
   "outputs": [
    {
     "data": {
      "text/plain": [
       "2-element Array{Int64,1}:\n",
       " 1\n",
       " 3"
      ]
     },
     "execution_count": 22,
     "metadata": {},
     "output_type": "execute_result"
    }
   ],
   "source": [
    "get_connected_nodes(4,N,A)"
   ]
  },
  {
   "cell_type": "code",
   "execution_count": 23,
   "metadata": {
    "collapsed": false
   },
   "outputs": [
    {
     "data": {
      "text/plain": [
       "1-element Array{Int64,1}:\n",
       " 3"
      ]
     },
     "execution_count": 23,
     "metadata": {},
     "output_type": "execute_result"
    }
   ],
   "source": [
    "get_connected_nodes(2,N,A)"
   ]
  },
  {
   "cell_type": "markdown",
   "metadata": {},
   "source": [
    "Now, try to task 3 and 4. See how"
   ]
  }
 ],
 "metadata": {
  "kernelspec": {
   "display_name": "Julia 0.5.0",
   "language": "julia",
   "name": "julia-0.5"
  },
  "language_info": {
   "file_extension": ".jl",
   "mimetype": "application/julia",
   "name": "julia",
   "version": "0.5.0"
  }
 },
 "nbformat": 4,
 "nbformat_minor": 1
}
