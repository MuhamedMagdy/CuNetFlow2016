{
 "cells": [
  {
   "cell_type": "markdown",
   "metadata": {},
   "source": [
    "# <h1>Networks:- Lab 1"
   ]
  },
  {
   "cell_type": "markdown",
   "metadata": {},
   "source": [
    "#### 1. Explaination\n",
    " Adjaceny matrix and adjanceny list explanation and their advantages and disadvantages (page: 33 & 34) in the book<br/>\n"
   ]
  },
  {
   "cell_type": "markdown",
   "metadata": {},
   "source": [
    "#### 2. Adjacency List\n"
   ]
  },
  {
   "cell_type": "code",
   "execution_count": 1,
   "metadata": {
    "collapsed": false
   },
   "outputs": [
    {
     "data": {
      "text/plain": [
       "constructAdjListFromFile (generic function with 1 method)"
      ]
     },
     "execution_count": 1,
     "metadata": {},
     "output_type": "execute_result"
    }
   ],
   "source": [
    "function constructAdjListFromFile(fname)\n",
    "    data=readcsv(fname,Int)\n",
    "    n=maximum(data) \n",
    "    m=size(data,1)\n",
    "    A=Array(Array{Int},n) \n",
    "    for i=1:n A[i]=[] end # Initialization of adjacency list\n",
    "\n",
    "    for arcIndx=1:m\n",
    "        i,j=data[arcIndx,:]\n",
    "        push!(A[i],j)\n",
    "    end\n",
    "    A\n",
    "end\n"
   ]
  },
  {
   "cell_type": "code",
   "execution_count": 13,
   "metadata": {
    "collapsed": false
   },
   "outputs": [
    {
     "data": {
      "text/plain": [
       "6-element Array{Array{Int64,N},1}:\n",
       " [2]    \n",
       " [4,5]  \n",
       " [2,1]  \n",
       " [6,5]  \n",
       " Int64[]\n",
       " [5]    "
      ]
     },
     "execution_count": 13,
     "metadata": {},
     "output_type": "execute_result"
    }
   ],
   "source": [
    "adjList = constructAdjListFromFile(\"Lab_1_data.csv\")"
   ]
  },
  {
   "cell_type": "markdown",
   "metadata": {},
   "source": [
    "#### 3. Adjacency Matrix"
   ]
  },
  {
   "cell_type": "code",
   "execution_count": 2,
   "metadata": {
    "collapsed": false
   },
   "outputs": [
    {
     "data": {
      "text/plain": [
       "constructAdjMatFromFile (generic function with 1 method)"
      ]
     },
     "execution_count": 2,
     "metadata": {},
     "output_type": "execute_result"
    }
   ],
   "source": [
    "function constructAdjMatFromFile(fname)\n",
    "    data=readcsv(fname,Int)\n",
    "    n=maximum(data) \n",
    "    M=zeros(Bool,n,n)\n",
    "    m=size(data,1)\n",
    "    for arcIndx=1:m\n",
    "        i,j=data[arcIndx,:]\n",
    "        M[i,j]=true\n",
    "    end\n",
    "    M\n",
    "end"
   ]
  },
  {
   "cell_type": "code",
   "execution_count": 3,
   "metadata": {
    "collapsed": false
   },
   "outputs": [
    {
     "data": {
      "text/plain": [
       "6×6 Array{Bool,2}:\n",
       " false   true  false  false  false  false\n",
       " false  false  false   true   true  false\n",
       "  true   true  false  false  false  false\n",
       " false  false  false  false   true   true\n",
       " false  false  false  false  false  false\n",
       " false  false  false  false   true  false"
      ]
     },
     "execution_count": 3,
     "metadata": {},
     "output_type": "execute_result"
    }
   ],
   "source": [
    "adjMat = constructAdjMatFromFile(\"Lab_1_data.csv\")"
   ]
  },
  {
   "cell_type": "markdown",
   "metadata": {},
   "source": [
    "#### 4. Calculate a node outdegree using arclist"
   ]
  },
  {
   "cell_type": "code",
   "execution_count": 7,
   "metadata": {
    "collapsed": false
   },
   "outputs": [
    {
     "data": {
      "text/plain": [
       "find_outdegree (generic function with 1 method)"
      ]
     },
     "execution_count": 7,
     "metadata": {},
     "output_type": "execute_result"
    }
   ],
   "source": [
    "function find_outdegree(node,arcs)\n",
    "  counter=0\n",
    "  for i in arcs\n",
    "    if i[1] == node\n",
    "      counter+=1\n",
    "    end\n",
    "  end\n",
    "  return counter\n",
    "end"
   ]
  },
  {
   "cell_type": "code",
   "execution_count": 8,
   "metadata": {
    "collapsed": false
   },
   "outputs": [
    {
     "data": {
      "text/plain": [
       "2"
      ]
     },
     "execution_count": 8,
     "metadata": {},
     "output_type": "execute_result"
    }
   ],
   "source": [
    "arcs = [(1,2),(2,3),(2,4),(3,1),(3,2),(3,6),(4,5),(5,6)]\n",
    "\n",
    "find_outdegree(2,arcs)"
   ]
  },
  {
   "cell_type": "markdown",
   "metadata": {},
   "source": [
    "#### 5. Calculate a node outdegree using adjacency list"
   ]
  },
  {
   "cell_type": "code",
   "execution_count": 11,
   "metadata": {
    "collapsed": false
   },
   "outputs": [
    {
     "data": {
      "text/plain": [
       "find_outdegreeAdjList (generic function with 1 method)"
      ]
     },
     "execution_count": 11,
     "metadata": {},
     "output_type": "execute_result"
    }
   ],
   "source": [
    "function find_outdegreeAdjList(node,adjList)\n",
    "    return length(adjList[node])\n",
    "end\n"
   ]
  },
  {
   "cell_type": "code",
   "execution_count": 14,
   "metadata": {
    "collapsed": false
   },
   "outputs": [
    {
     "data": {
      "text/plain": [
       "2"
      ]
     },
     "execution_count": 14,
     "metadata": {},
     "output_type": "execute_result"
    }
   ],
   "source": [
    "find_outdegreeAdjList(2,adjList)"
   ]
  },
  {
   "cell_type": "markdown",
   "metadata": {},
   "source": [
    "#### 6. Calculate a node indegree using incedence list\n"
   ]
  },
  {
   "cell_type": "code",
   "execution_count": 18,
   "metadata": {
    "collapsed": false
   },
   "outputs": [
    {
     "name": "stderr",
     "output_type": "stream",
     "text": [
      "WARNING: Method definition constructIncListFromFile(Any) in module Main at In[17]:5 overwritten at In[18]:5"
     ]
    },
    {
     "data": {
      "text/plain": [
       "constructIncListFromFile (generic function with 1 method)"
      ]
     },
     "execution_count": 18,
     "metadata": {},
     "output_type": "execute_result"
    },
    {
     "name": "stderr",
     "output_type": "stream",
     "text": [
      ".\n"
     ]
    }
   ],
   "source": [
    "#First we construct an incedence list\n",
    "#Then we create a function to calculate the indegree of a node\n",
    "\n",
    "function constructIncListFromFile(fname)\n",
    "    data=readcsv(fname,Int)\n",
    "    n=maximum(data) #Assuming no gaps and starting from 1, this is the number of nodes\n",
    "    m=size(data,1)\n",
    "    A=Array(Array{Int},n) # Our adjacency list\n",
    "    for i=1:n A[i]=[] end # Initialization of adjacency list\n",
    "    # The main construction step\n",
    "    for arcIndx=1:m\n",
    "        i,j=data[arcIndx,:]\n",
    "        push!(A[j],i)\n",
    "    end\n",
    "    A\n",
    "end"
   ]
  },
  {
   "cell_type": "code",
   "execution_count": 24,
   "metadata": {
    "collapsed": false
   },
   "outputs": [
    {
     "data": {
      "text/plain": [
       "6-element Array{Array{Int64,N},1}:\n",
       " [3]    \n",
       " [1,3]  \n",
       " Int64[]\n",
       " [2]    \n",
       " [2,4,6]\n",
       " [4]    "
      ]
     },
     "execution_count": 24,
     "metadata": {},
     "output_type": "execute_result"
    }
   ],
   "source": [
    "incList = constructIncListFromFile(\"Lab_1_data.csv\")"
   ]
  },
  {
   "cell_type": "code",
   "execution_count": 29,
   "metadata": {
    "collapsed": false
   },
   "outputs": [
    {
     "name": "stderr",
     "output_type": "stream",
     "text": [
      "WARNING: Method definition find_indegreeIncList(Any"
     ]
    },
    {
     "data": {
      "text/plain": [
       "find_indegreeIncList (generic function with 1 method)"
      ]
     },
     "execution_count": 29,
     "metadata": {},
     "output_type": "execute_result"
    },
    {
     "name": "stderr",
     "output_type": "stream",
     "text": [
      ", Any) in module Main at In[27]:2 overwritten at In[29]:2.\n"
     ]
    }
   ],
   "source": [
    "function find_indegreeIncList(node,incList)\n",
    "    return length(incList[node])\n",
    "end"
   ]
  },
  {
   "cell_type": "code",
   "execution_count": 31,
   "metadata": {
    "collapsed": false
   },
   "outputs": [
    {
     "data": {
      "text/plain": [
       "3"
      ]
     },
     "execution_count": 31,
     "metadata": {},
     "output_type": "execute_result"
    }
   ],
   "source": [
    "find_indegreeIncList(5,incList)"
   ]
  },
  {
   "cell_type": "markdown",
   "metadata": {},
   "source": [
    "#### 7. Calculate a node outdegree and indegree using adjacency matrix"
   ]
  },
  {
   "cell_type": "code",
   "execution_count": 33,
   "metadata": {
    "collapsed": false
   },
   "outputs": [
    {
     "data": {
      "text/plain": [
       "find_indegreeMat (generic function with 1 method)"
      ]
     },
     "execution_count": 33,
     "metadata": {},
     "output_type": "execute_result"
    }
   ],
   "source": [
    "function find_outdegreeMat(node,adjMatrix)\n",
    "    return sum(adjMatrix[node,:])\n",
    "end\n",
    "\n",
    "function find_indegreeMat(node,adjMatrix)\n",
    "    return sum(adjMatrix[:,node])\n",
    "end\n"
   ]
  },
  {
   "cell_type": "code",
   "execution_count": 35,
   "metadata": {
    "collapsed": false
   },
   "outputs": [
    {
     "data": {
      "text/plain": [
       "2"
      ]
     },
     "execution_count": 35,
     "metadata": {},
     "output_type": "execute_result"
    }
   ],
   "source": [
    "find_outdegreeMat(4,adjMat)"
   ]
  },
  {
   "cell_type": "code",
   "execution_count": 36,
   "metadata": {
    "collapsed": false
   },
   "outputs": [
    {
     "data": {
      "text/plain": [
       "1"
      ]
     },
     "execution_count": 36,
     "metadata": {},
     "output_type": "execute_result"
    }
   ],
   "source": [
    "find_indegreeMat(4,adjMat)"
   ]
  },
  {
   "cell_type": "code",
   "execution_count": 4,
   "metadata": {
    "collapsed": false
   },
   "outputs": [
    {
     "name": "stdout",
     "output_type": "stream",
     "text": [
      "[140639116528848,5,140639233789648]"
     ]
    }
   ],
   "source": [
    "A=Array(Int,3)\n",
    "A[2]=5\n",
    "print(A)"
   ]
  }
 ],
 "metadata": {
  "anaconda-cloud": {},
  "kernelspec": {
   "display_name": "Julia 0.5.0",
   "language": "julia",
   "name": "julia-0.5"
  },
  "language_info": {
   "file_extension": ".jl",
   "mimetype": "application/julia",
   "name": "julia",
   "version": "0.5.0"
  }
 },
 "nbformat": 4,
 "nbformat_minor": 0
}
